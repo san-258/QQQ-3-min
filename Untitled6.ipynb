{
  "nbformat": 4,
  "nbformat_minor": 0,
  "metadata": {
    "colab": {
      "provenance": [],
      "authorship_tag": "ABX9TyPyHL55bxrltBtaPvWw25xl",
      "include_colab_link": true
    },
    "kernelspec": {
      "name": "python3",
      "display_name": "Python 3"
    },
    "language_info": {
      "name": "python"
    }
  },
  "cells": [
    {
      "cell_type": "markdown",
      "metadata": {
        "id": "view-in-github",
        "colab_type": "text"
      },
      "source": [
        "<a href=\"https://colab.research.google.com/github/san-258/QQQ-3-min/blob/main/Untitled6.ipynb\" target=\"_parent\"><img src=\"https://colab.research.google.com/assets/colab-badge.svg\" alt=\"Open In Colab\"/></a>"
      ]
    },
    {
      "cell_type": "code",
      "execution_count": null,
      "metadata": {
        "id": "kKXybQB6VViU"
      },
      "outputs": [],
      "source": []
    },
    {
      "cell_type": "markdown",
      "metadata": {
        "id": "8ef95bf1"
      },
      "source": [
        "# Task\n",
        "Set up an Alpaca trading bot."
      ]
    },
    {
      "cell_type": "markdown",
      "metadata": {
        "id": "aac692f5"
      },
      "source": [
        "## Install necessary libraries\n",
        "\n",
        "### Subtask:\n",
        "Install the required libraries, such as `alpaca-trade-api`.\n"
      ]
    },
    {
      "cell_type": "markdown",
      "metadata": {
        "id": "8255f135"
      },
      "source": [
        "**Reasoning**:\n",
        "Install the `alpaca-trade-api` library using pip.\n",
        "\n"
      ]
    },
    {
      "cell_type": "code",
      "metadata": {
        "colab": {
          "base_uri": "https://localhost:8080/"
        },
        "id": "d19755d2",
        "outputId": "f6d605c1-35cd-491a-9bc0-229fca34476a"
      },
      "source": [
        "%pip install alpaca-trade-api"
      ],
      "execution_count": 2,
      "outputs": [
        {
          "output_type": "stream",
          "name": "stdout",
          "text": [
            "Requirement already satisfied: alpaca-trade-api in /usr/local/lib/python3.11/dist-packages (3.2.0)\n",
            "Requirement already satisfied: pandas>=0.18.1 in /usr/local/lib/python3.11/dist-packages (from alpaca-trade-api) (2.2.2)\n",
            "Requirement already satisfied: numpy>=1.11.1 in /usr/local/lib/python3.11/dist-packages (from alpaca-trade-api) (2.0.2)\n",
            "Requirement already satisfied: requests<3,>2 in /usr/local/lib/python3.11/dist-packages (from alpaca-trade-api) (2.32.3)\n",
            "Requirement already satisfied: urllib3<2,>1.24 in /usr/local/lib/python3.11/dist-packages (from alpaca-trade-api) (1.26.20)\n",
            "Requirement already satisfied: websocket-client<2,>=0.56.0 in /usr/local/lib/python3.11/dist-packages (from alpaca-trade-api) (1.8.0)\n",
            "Requirement already satisfied: websockets<11,>=9.0 in /usr/local/lib/python3.11/dist-packages (from alpaca-trade-api) (10.4)\n",
            "Requirement already satisfied: msgpack==1.0.3 in /usr/local/lib/python3.11/dist-packages (from alpaca-trade-api) (1.0.3)\n",
            "Requirement already satisfied: aiohttp<4,>=3.8.3 in /usr/local/lib/python3.11/dist-packages (from alpaca-trade-api) (3.12.14)\n",
            "Requirement already satisfied: PyYAML==6.0.1 in /usr/local/lib/python3.11/dist-packages (from alpaca-trade-api) (6.0.1)\n",
            "Requirement already satisfied: deprecation==2.1.0 in /usr/local/lib/python3.11/dist-packages (from alpaca-trade-api) (2.1.0)\n",
            "Requirement already satisfied: packaging in /usr/local/lib/python3.11/dist-packages (from deprecation==2.1.0->alpaca-trade-api) (25.0)\n",
            "Requirement already satisfied: aiohappyeyeballs>=2.5.0 in /usr/local/lib/python3.11/dist-packages (from aiohttp<4,>=3.8.3->alpaca-trade-api) (2.6.1)\n",
            "Requirement already satisfied: aiosignal>=1.4.0 in /usr/local/lib/python3.11/dist-packages (from aiohttp<4,>=3.8.3->alpaca-trade-api) (1.4.0)\n",
            "Requirement already satisfied: attrs>=17.3.0 in /usr/local/lib/python3.11/dist-packages (from aiohttp<4,>=3.8.3->alpaca-trade-api) (25.3.0)\n",
            "Requirement already satisfied: frozenlist>=1.1.1 in /usr/local/lib/python3.11/dist-packages (from aiohttp<4,>=3.8.3->alpaca-trade-api) (1.7.0)\n",
            "Requirement already satisfied: multidict<7.0,>=4.5 in /usr/local/lib/python3.11/dist-packages (from aiohttp<4,>=3.8.3->alpaca-trade-api) (6.6.3)\n",
            "Requirement already satisfied: propcache>=0.2.0 in /usr/local/lib/python3.11/dist-packages (from aiohttp<4,>=3.8.3->alpaca-trade-api) (0.3.2)\n",
            "Requirement already satisfied: yarl<2.0,>=1.17.0 in /usr/local/lib/python3.11/dist-packages (from aiohttp<4,>=3.8.3->alpaca-trade-api) (1.20.1)\n",
            "Requirement already satisfied: python-dateutil>=2.8.2 in /usr/local/lib/python3.11/dist-packages (from pandas>=0.18.1->alpaca-trade-api) (2.9.0.post0)\n",
            "Requirement already satisfied: pytz>=2020.1 in /usr/local/lib/python3.11/dist-packages (from pandas>=0.18.1->alpaca-trade-api) (2025.2)\n",
            "Requirement already satisfied: tzdata>=2022.7 in /usr/local/lib/python3.11/dist-packages (from pandas>=0.18.1->alpaca-trade-api) (2025.2)\n",
            "Requirement already satisfied: charset-normalizer<4,>=2 in /usr/local/lib/python3.11/dist-packages (from requests<3,>2->alpaca-trade-api) (3.4.2)\n",
            "Requirement already satisfied: idna<4,>=2.5 in /usr/local/lib/python3.11/dist-packages (from requests<3,>2->alpaca-trade-api) (3.10)\n",
            "Requirement already satisfied: certifi>=2017.4.17 in /usr/local/lib/python3.11/dist-packages (from requests<3,>2->alpaca-trade-api) (2025.7.14)\n",
            "Requirement already satisfied: typing-extensions>=4.2 in /usr/local/lib/python3.11/dist-packages (from aiosignal>=1.4.0->aiohttp<4,>=3.8.3->alpaca-trade-api) (4.14.1)\n",
            "Requirement already satisfied: six>=1.5 in /usr/local/lib/python3.11/dist-packages (from python-dateutil>=2.8.2->pandas>=0.18.1->alpaca-trade-api) (1.17.0)\n"
          ]
        }
      ]
    },
    {
      "cell_type": "markdown",
      "metadata": {
        "id": "02c5d904"
      },
      "source": [
        "**Reasoning**:\n",
        "Confirm that the library is installed correctly by importing it.\n",
        "\n"
      ]
    },
    {
      "cell_type": "code",
      "metadata": {
        "colab": {
          "base_uri": "https://localhost:8080/"
        },
        "id": "ed1a2659",
        "outputId": "3efa22a4-b309-41a4-af39-93b303ae40bc"
      },
      "source": [
        "import alpaca_trade_api as api\n",
        "\n",
        "print(\"Alpaca Trade API installed successfully.\")"
      ],
      "execution_count": 3,
      "outputs": [
        {
          "output_type": "stream",
          "name": "stdout",
          "text": [
            "Alpaca Trade API installed successfully.\n"
          ]
        }
      ]
    },
    {
      "cell_type": "markdown",
      "metadata": {
        "id": "eacd4f21"
      },
      "source": [
        "## Set up alpaca api credentials\n",
        "\n",
        "### Subtask:\n",
        "Securely store and load your Alpaca API keys.\n"
      ]
    },
    {
      "cell_type": "markdown",
      "metadata": {
        "id": "dcf20525"
      },
      "source": [
        "**Reasoning**:\n",
        "Define variables for the Alpaca API key ID and secret key and assign placeholder values as strings.\n",
        "\n"
      ]
    },
    {
      "cell_type": "code",
      "metadata": {
        "colab": {
          "base_uri": "https://localhost:8080/"
        },
        "id": "a7d3d2aa",
        "outputId": "c3e6ace1-a3bd-4a9d-e97b-b846feeb1daa"
      },
      "source": [
        "# Replace with your actual Alpaca API key ID and secret key\n",
        "ALPC_API_KEY_ID = \"PKAZJ2CHZ409JXQEE3JI\"\n",
        "ALPC_SECRET_KEY = \"DbmnlcNEM7sTfVG66Q4YfDhlKvfdaHO64evp0dBj\"\n",
        "\n",
        "print(\"Alpaca API key variables defined.\")"
      ],
      "execution_count": 4,
      "outputs": [
        {
          "output_type": "stream",
          "name": "stdout",
          "text": [
            "Alpaca API key variables defined.\n"
          ]
        }
      ]
    },
    {
      "cell_type": "markdown",
      "metadata": {
        "id": "59eb207d"
      },
      "source": [
        "## Connect to alpaca api\n",
        "\n",
        "### Subtask:\n",
        "Initialize the Alpaca API with your credentials.\n"
      ]
    },
    {
      "cell_type": "markdown",
      "metadata": {
        "id": "77183fbf"
      },
      "source": [
        "**Reasoning**:\n",
        "Initialize the Alpaca API by creating an instance of the REST class with the defined API key and secret key.\n",
        "\n"
      ]
    },
    {
      "cell_type": "code",
      "metadata": {
        "colab": {
          "base_uri": "https://localhost:8080/"
        },
        "id": "8e459aaa",
        "outputId": "c22aaac6-8ef3-44cd-bb2c-4df606a59436"
      },
      "source": [
        "alpaca_api = api.REST(ALPC_API_KEY_ID, ALPC_SECRET_KEY)\n",
        "print(\"Alpaca API connection object created.\")"
      ],
      "execution_count": 5,
      "outputs": [
        {
          "output_type": "stream",
          "name": "stdout",
          "text": [
            "Alpaca API connection object created.\n"
          ]
        }
      ]
    },
    {
      "cell_type": "markdown",
      "metadata": {
        "id": "991fe8be"
      },
      "source": [
        "## Implement trading logic\n",
        "\n",
        "### Subtask:\n",
        "Write the code for your trading strategy. This will involve fetching market data, making trading decisions, and executing orders.\n"
      ]
    },
    {
      "cell_type": "markdown",
      "metadata": {
        "id": "1c7eaab1"
      },
      "source": [
        "**Reasoning**:\n",
        "Define a class that encapsulates the trading strategy, including methods for fetching data, implementing the trading logic, and executing orders using the initialized `alpaca_api` object.\n",
        "\n"
      ]
    },
    {
      "cell_type": "code",
      "metadata": {
        "id": "a8ea5f75"
      },
      "source": [
        "import time\n",
        "\n",
        "class SimpleMovingAverageStrategy:\n",
        "    def __init__(self, api_client, symbol=\"SPY\", short_window=50, long_window=200):\n",
        "        self.api = api_client\n",
        "        self.symbol = symbol\n",
        "        self.short_window = short_window\n",
        "        self.long_window = long_window\n",
        "        self.in_position = False  # Track if we currently hold a position\n",
        "\n",
        "    def fetch_data(self):\n",
        "        \"\"\"Fetches historical closing price data.\"\"\"\n",
        "        # Fetch data for a period sufficient for the long moving average\n",
        "        end_date = pd.Timestamp.now(tz='America/New_York')\n",
        "        start_date = end_date - pd.Timedelta(days=self.long_window * 2) # Fetch enough data\n",
        "\n",
        "        barset = self.api.get_bars(self.symbol, '1D', start=start_date.isoformat(), end=end_date.isoformat()).df\n",
        "        return barset['close']\n",
        "\n",
        "    def generate_signals(self, historical_prices):\n",
        "        \"\"\"Generates trading signals based on moving averages.\"\"\"\n",
        "        if len(historical_prices) < self.long_window:\n",
        "            print(\"Not enough data to calculate moving averages.\")\n",
        "            return None\n",
        "\n",
        "        short_mavg = historical_prices.rolling(window=self.short_window).mean()\n",
        "        long_mavg = historical_prices.rolling(window=self.long_window).mean()\n",
        "\n",
        "        signals = pd.DataFrame(index=historical_prices.index)\n",
        "        signals['price'] = historical_prices\n",
        "        signals['short_mavg'] = short_mavg\n",
        "        signals['long_mavg'] = long_mavg\n",
        "\n",
        "        # Generate signals: buy when short crosses above long, sell when short crosses below long\n",
        "        signals['signal'] = 0.0\n",
        "        signals['signal'][self.short_window:] = np.where(\n",
        "            signals['short_mavg'][self.short_window:] > signals['long_mavg'][self.short_window:],\n",
        "            1.0, 0.0\n",
        "        )\n",
        "        signals['positions'] = signals['signal'].diff()\n",
        "\n",
        "        return signals\n",
        "\n",
        "    def execute_trades(self, signals):\n",
        "        \"\"\"Executes trades based on the generated signals.\"\"\"\n",
        "        if signals is None or signals.empty:\n",
        "            return\n",
        "\n",
        "        last_signal = signals['positions'].iloc[-1]\n",
        "\n",
        "        if last_signal > 0 and not self.in_position:\n",
        "            # Buy signal\n",
        "            print(f\"Buy signal for {self.symbol}\")\n",
        "            # Example: Buy 1 share. You'd likely want more sophisticated position sizing.\n",
        "            try:\n",
        "                self.api.submit_order(\n",
        "                    symbol=self.symbol,\n",
        "                    qty=1,\n",
        "                    side='buy',\n",
        "                    type='market',\n",
        "                    time_in_force='gtc'\n",
        "                )\n",
        "                self.in_position = True\n",
        "                print(f\"Submitted buy order for {self.symbol}\")\n",
        "            except Exception as e:\n",
        "                print(f\"Error submitting buy order: {e}\")\n",
        "\n",
        "        elif last_signal < 0 and self.in_position:\n",
        "            # Sell signal\n",
        "            print(f\"Sell signal for {self.symbol}\")\n",
        "            # Example: Sell all held shares.\n",
        "            try:\n",
        "                # Get current position to sell\n",
        "                position = self.api.get_position(self.symbol)\n",
        "                qty_to_sell = int(position.qty)\n",
        "\n",
        "                if qty_to_sell > 0:\n",
        "                     self.api.submit_order(\n",
        "                        symbol=self.symbol,\n",
        "                        qty=qty_to_sell,\n",
        "                        side='sell',\n",
        "                        type='market',\n",
        "                        time_in_force='gtc'\n",
        "                    )\n",
        "                     self.in_position = False\n",
        "                     print(f\"Submitted sell order for {self.symbol}\")\n",
        "                else:\n",
        "                    print(f\"No position to sell for {self.symbol}\")\n",
        "            except Exception as e:\n",
        "                print(f\"Error submitting sell order: {e}\")\n",
        "\n",
        "        else:\n",
        "            print(\"No trading signal or already in position.\")\n",
        "\n",
        "    def run(self):\n",
        "        \"\"\"Runs the trading strategy.\"\"\"\n",
        "        print(f\"Running trading strategy for {self.symbol}...\")\n",
        "        historical_prices = self.fetch_data()\n",
        "        signals = self.generate_signals(historical_prices)\n",
        "        self.execute_trades(signals)\n",
        "        print(\"Trading strategy run complete.\")\n",
        "\n",
        "import pandas as pd\n",
        "import numpy as np\n",
        "\n",
        "# Create an instance of the trading strategy\n",
        "# Replace alpaca_api with your actual initialized API object\n",
        "strategy = SimpleMovingAverageStrategy(alpaca_api)\n",
        "\n",
        "# To run the strategy:\n",
        "# strategy.run()"
      ],
      "execution_count": 6,
      "outputs": []
    },
    {
      "cell_type": "markdown",
      "metadata": {
        "id": "d79bc502"
      },
      "source": [
        "## Backtest or paper trade\n",
        "\n",
        "### Subtask:\n",
        "Test your trading strategy using historical data (backtesting) or simulated trading (paper trading) before using real money.\n"
      ]
    },
    {
      "cell_type": "markdown",
      "metadata": {
        "id": "5564ad66"
      },
      "source": [
        "**Reasoning**:\n",
        "Instantiate the `SimpleMovingAverageStrategy` class and call its `run()` method to test the trading strategy.\n",
        "\n"
      ]
    },
    {
      "cell_type": "code",
      "metadata": {
        "colab": {
          "base_uri": "https://localhost:8080/",
          "height": 356
        },
        "id": "8055baa2",
        "outputId": "09e468cb-af92-4595-8c2e-eb7025c58658"
      },
      "source": [
        "# Instantiate the SimpleMovingAverageStrategy class, passing the initialized alpaca_api object\n",
        "# The strategy object is already created in the previous step and named as 'strategy'.\n",
        "\n",
        "# Call the run() method on the strategy object to execute the trading logic\n",
        "strategy.run()"
      ],
      "execution_count": 7,
      "outputs": [
        {
          "output_type": "stream",
          "name": "stdout",
          "text": [
            "Running trading strategy for SPY...\n"
          ]
        },
        {
          "output_type": "error",
          "ename": "APIError",
          "evalue": "subscription does not permit querying recent SIP data",
          "traceback": [
            "\u001b[0;31m---------------------------------------------------------------------------\u001b[0m",
            "\u001b[0;31mAPIError\u001b[0m                                  Traceback (most recent call last)",
            "\u001b[0;32m/tmp/ipython-input-7-2976037681.py\u001b[0m in \u001b[0;36m<cell line: 0>\u001b[0;34m()\u001b[0m\n\u001b[1;32m      3\u001b[0m \u001b[0;34m\u001b[0m\u001b[0m\n\u001b[1;32m      4\u001b[0m \u001b[0;31m# Call the run() method on the strategy object to execute the trading logic\u001b[0m\u001b[0;34m\u001b[0m\u001b[0;34m\u001b[0m\u001b[0m\n\u001b[0;32m----> 5\u001b[0;31m \u001b[0mstrategy\u001b[0m\u001b[0;34m.\u001b[0m\u001b[0mrun\u001b[0m\u001b[0;34m(\u001b[0m\u001b[0;34m)\u001b[0m\u001b[0;34m\u001b[0m\u001b[0;34m\u001b[0m\u001b[0m\n\u001b[0m",
            "\u001b[0;32m/tmp/ipython-input-6-2037957025.py\u001b[0m in \u001b[0;36mrun\u001b[0;34m(self)\u001b[0m\n\u001b[1;32m     96\u001b[0m         \u001b[0;34m\"\"\"Runs the trading strategy.\"\"\"\u001b[0m\u001b[0;34m\u001b[0m\u001b[0;34m\u001b[0m\u001b[0m\n\u001b[1;32m     97\u001b[0m         \u001b[0mprint\u001b[0m\u001b[0;34m(\u001b[0m\u001b[0;34mf\"Running trading strategy for {self.symbol}...\"\u001b[0m\u001b[0;34m)\u001b[0m\u001b[0;34m\u001b[0m\u001b[0;34m\u001b[0m\u001b[0m\n\u001b[0;32m---> 98\u001b[0;31m         \u001b[0mhistorical_prices\u001b[0m \u001b[0;34m=\u001b[0m \u001b[0mself\u001b[0m\u001b[0;34m.\u001b[0m\u001b[0mfetch_data\u001b[0m\u001b[0;34m(\u001b[0m\u001b[0;34m)\u001b[0m\u001b[0;34m\u001b[0m\u001b[0;34m\u001b[0m\u001b[0m\n\u001b[0m\u001b[1;32m     99\u001b[0m         \u001b[0msignals\u001b[0m \u001b[0;34m=\u001b[0m \u001b[0mself\u001b[0m\u001b[0;34m.\u001b[0m\u001b[0mgenerate_signals\u001b[0m\u001b[0;34m(\u001b[0m\u001b[0mhistorical_prices\u001b[0m\u001b[0;34m)\u001b[0m\u001b[0;34m\u001b[0m\u001b[0;34m\u001b[0m\u001b[0m\n\u001b[1;32m    100\u001b[0m         \u001b[0mself\u001b[0m\u001b[0;34m.\u001b[0m\u001b[0mexecute_trades\u001b[0m\u001b[0;34m(\u001b[0m\u001b[0msignals\u001b[0m\u001b[0;34m)\u001b[0m\u001b[0;34m\u001b[0m\u001b[0;34m\u001b[0m\u001b[0m\n",
            "\u001b[0;32m/tmp/ipython-input-6-2037957025.py\u001b[0m in \u001b[0;36mfetch_data\u001b[0;34m(self)\u001b[0m\n\u001b[1;32m     15\u001b[0m         \u001b[0mstart_date\u001b[0m \u001b[0;34m=\u001b[0m \u001b[0mend_date\u001b[0m \u001b[0;34m-\u001b[0m \u001b[0mpd\u001b[0m\u001b[0;34m.\u001b[0m\u001b[0mTimedelta\u001b[0m\u001b[0;34m(\u001b[0m\u001b[0mdays\u001b[0m\u001b[0;34m=\u001b[0m\u001b[0mself\u001b[0m\u001b[0;34m.\u001b[0m\u001b[0mlong_window\u001b[0m \u001b[0;34m*\u001b[0m \u001b[0;36m2\u001b[0m\u001b[0;34m)\u001b[0m \u001b[0;31m# Fetch enough data\u001b[0m\u001b[0;34m\u001b[0m\u001b[0;34m\u001b[0m\u001b[0m\n\u001b[1;32m     16\u001b[0m \u001b[0;34m\u001b[0m\u001b[0m\n\u001b[0;32m---> 17\u001b[0;31m         \u001b[0mbarset\u001b[0m \u001b[0;34m=\u001b[0m \u001b[0mself\u001b[0m\u001b[0;34m.\u001b[0m\u001b[0mapi\u001b[0m\u001b[0;34m.\u001b[0m\u001b[0mget_bars\u001b[0m\u001b[0;34m(\u001b[0m\u001b[0mself\u001b[0m\u001b[0;34m.\u001b[0m\u001b[0msymbol\u001b[0m\u001b[0;34m,\u001b[0m \u001b[0;34m'1D'\u001b[0m\u001b[0;34m,\u001b[0m \u001b[0mstart\u001b[0m\u001b[0;34m=\u001b[0m\u001b[0mstart_date\u001b[0m\u001b[0;34m.\u001b[0m\u001b[0misoformat\u001b[0m\u001b[0;34m(\u001b[0m\u001b[0;34m)\u001b[0m\u001b[0;34m,\u001b[0m \u001b[0mend\u001b[0m\u001b[0;34m=\u001b[0m\u001b[0mend_date\u001b[0m\u001b[0;34m.\u001b[0m\u001b[0misoformat\u001b[0m\u001b[0;34m(\u001b[0m\u001b[0;34m)\u001b[0m\u001b[0;34m)\u001b[0m\u001b[0;34m.\u001b[0m\u001b[0mdf\u001b[0m\u001b[0;34m\u001b[0m\u001b[0;34m\u001b[0m\u001b[0m\n\u001b[0m\u001b[1;32m     18\u001b[0m         \u001b[0;32mreturn\u001b[0m \u001b[0mbarset\u001b[0m\u001b[0;34m[\u001b[0m\u001b[0;34m'close'\u001b[0m\u001b[0;34m]\u001b[0m\u001b[0;34m\u001b[0m\u001b[0;34m\u001b[0m\u001b[0m\n\u001b[1;32m     19\u001b[0m \u001b[0;34m\u001b[0m\u001b[0m\n",
            "\u001b[0;32m/usr/local/lib/python3.11/dist-packages/alpaca_trade_api/rest.py\u001b[0m in \u001b[0;36mget_bars\u001b[0;34m(self, symbol, timeframe, start, end, adjustment, limit, feed, asof, sort)\u001b[0m\n\u001b[1;32m    733\u001b[0m                  \u001b[0msort\u001b[0m\u001b[0;34m:\u001b[0m \u001b[0mOptional\u001b[0m\u001b[0;34m[\u001b[0m\u001b[0mSort\u001b[0m\u001b[0;34m]\u001b[0m \u001b[0;34m=\u001b[0m \u001b[0;32mNone\u001b[0m\u001b[0;34m,\u001b[0m\u001b[0;34m\u001b[0m\u001b[0;34m\u001b[0m\u001b[0m\n\u001b[1;32m    734\u001b[0m                  ) -> BarsV2:\n\u001b[0;32m--> 735\u001b[0;31m         bars = list(self.get_bars_iter(symbol,\n\u001b[0m\u001b[1;32m    736\u001b[0m                                        \u001b[0mtimeframe\u001b[0m\u001b[0;34m,\u001b[0m\u001b[0;34m\u001b[0m\u001b[0;34m\u001b[0m\u001b[0m\n\u001b[1;32m    737\u001b[0m                                        \u001b[0mstart\u001b[0m\u001b[0;34m,\u001b[0m\u001b[0;34m\u001b[0m\u001b[0;34m\u001b[0m\u001b[0m\n",
            "\u001b[0;32m/usr/local/lib/python3.11/dist-packages/alpaca_trade_api/rest.py\u001b[0m in \u001b[0;36mget_bars_iter\u001b[0;34m(self, symbol, timeframe, start, end, adjustment, limit, feed, asof, sort, raw)\u001b[0m\n\u001b[1;32m    716\u001b[0m                               \u001b[0msort\u001b[0m\u001b[0;34m=\u001b[0m\u001b[0msort\u001b[0m\u001b[0;34m,\u001b[0m\u001b[0;34m\u001b[0m\u001b[0;34m\u001b[0m\u001b[0m\n\u001b[1;32m    717\u001b[0m                               )\n\u001b[0;32m--> 718\u001b[0;31m         \u001b[0;32mfor\u001b[0m \u001b[0mbar\u001b[0m \u001b[0;32min\u001b[0m \u001b[0mbars\u001b[0m\u001b[0;34m:\u001b[0m\u001b[0;34m\u001b[0m\u001b[0;34m\u001b[0m\u001b[0m\n\u001b[0m\u001b[1;32m    719\u001b[0m             \u001b[0;32mif\u001b[0m \u001b[0mraw\u001b[0m\u001b[0;34m:\u001b[0m\u001b[0;34m\u001b[0m\u001b[0;34m\u001b[0m\u001b[0m\n\u001b[1;32m    720\u001b[0m                 \u001b[0;32myield\u001b[0m \u001b[0mbar\u001b[0m\u001b[0;34m\u001b[0m\u001b[0;34m\u001b[0m\u001b[0m\n",
            "\u001b[0;32m/usr/local/lib/python3.11/dist-packages/alpaca_trade_api/rest.py\u001b[0m in \u001b[0;36m_data_get\u001b[0;34m(self, endpoint, symbol_or_symbols, api_version, endpoint_base, resp_grouped_by_symbol, page_limit, feed, asof, loc, **kwargs)\u001b[0m\n\u001b[1;32m    592\u001b[0m             \u001b[0;32mif\u001b[0m \u001b[0mendpoint\u001b[0m\u001b[0;34m:\u001b[0m\u001b[0;34m\u001b[0m\u001b[0;34m\u001b[0m\u001b[0m\n\u001b[1;32m    593\u001b[0m                 \u001b[0mpath\u001b[0m \u001b[0;34m+=\u001b[0m \u001b[0;34mf'/{endpoint}'\u001b[0m\u001b[0;34m\u001b[0m\u001b[0;34m\u001b[0m\u001b[0m\n\u001b[0;32m--> 594\u001b[0;31m             resp = self.data_get(path, data=data, feed=feed,\n\u001b[0m\u001b[1;32m    595\u001b[0m                                  api_version=api_version)\n\u001b[1;32m    596\u001b[0m             \u001b[0;32mif\u001b[0m \u001b[0;32mnot\u001b[0m \u001b[0mresp_grouped_by_symbol\u001b[0m\u001b[0;34m:\u001b[0m\u001b[0;34m\u001b[0m\u001b[0;34m\u001b[0m\u001b[0m\n",
            "\u001b[0;32m/usr/local/lib/python3.11/dist-packages/alpaca_trade_api/rest.py\u001b[0m in \u001b[0;36mdata_get\u001b[0;34m(self, path, data, feed, api_version)\u001b[0m\n\u001b[1;32m    272\u001b[0m             \u001b[0mdata\u001b[0m \u001b[0;34m=\u001b[0m \u001b[0mdata\u001b[0m \u001b[0;32mor\u001b[0m \u001b[0;34m{\u001b[0m\u001b[0;34m}\u001b[0m\u001b[0;34m\u001b[0m\u001b[0;34m\u001b[0m\u001b[0m\n\u001b[1;32m    273\u001b[0m             \u001b[0mdata\u001b[0m\u001b[0;34m[\u001b[0m\u001b[0;34m'feed'\u001b[0m\u001b[0;34m]\u001b[0m \u001b[0;34m=\u001b[0m \u001b[0mfeed\u001b[0m\u001b[0;34m\u001b[0m\u001b[0;34m\u001b[0m\u001b[0m\n\u001b[0;32m--> 274\u001b[0;31m         return self._request(\n\u001b[0m\u001b[1;32m    275\u001b[0m             \u001b[0;34m'GET'\u001b[0m\u001b[0;34m,\u001b[0m \u001b[0mpath\u001b[0m\u001b[0;34m,\u001b[0m \u001b[0mdata\u001b[0m\u001b[0;34m,\u001b[0m \u001b[0mbase_url\u001b[0m\u001b[0;34m=\u001b[0m\u001b[0mbase_url\u001b[0m\u001b[0;34m,\u001b[0m \u001b[0mapi_version\u001b[0m\u001b[0;34m=\u001b[0m\u001b[0mapi_version\u001b[0m\u001b[0;34m,\u001b[0m\u001b[0;34m\u001b[0m\u001b[0;34m\u001b[0m\u001b[0m\n\u001b[1;32m    276\u001b[0m         )\n",
            "\u001b[0;32m/usr/local/lib/python3.11/dist-packages/alpaca_trade_api/rest.py\u001b[0m in \u001b[0;36m_request\u001b[0;34m(self, method, path, data, base_url, api_version)\u001b[0m\n\u001b[1;32m    220\u001b[0m         \u001b[0;32mwhile\u001b[0m \u001b[0mretry\u001b[0m \u001b[0;34m>=\u001b[0m \u001b[0;36m0\u001b[0m\u001b[0;34m:\u001b[0m\u001b[0;34m\u001b[0m\u001b[0;34m\u001b[0m\u001b[0m\n\u001b[1;32m    221\u001b[0m             \u001b[0;32mtry\u001b[0m\u001b[0;34m:\u001b[0m\u001b[0;34m\u001b[0m\u001b[0;34m\u001b[0m\u001b[0m\n\u001b[0;32m--> 222\u001b[0;31m                 \u001b[0;32mreturn\u001b[0m \u001b[0mself\u001b[0m\u001b[0;34m.\u001b[0m\u001b[0m_one_request\u001b[0m\u001b[0;34m(\u001b[0m\u001b[0mmethod\u001b[0m\u001b[0;34m,\u001b[0m \u001b[0murl\u001b[0m\u001b[0;34m,\u001b[0m \u001b[0mopts\u001b[0m\u001b[0;34m,\u001b[0m \u001b[0mretry\u001b[0m\u001b[0;34m)\u001b[0m\u001b[0;34m\u001b[0m\u001b[0;34m\u001b[0m\u001b[0m\n\u001b[0m\u001b[1;32m    223\u001b[0m             \u001b[0;32mexcept\u001b[0m \u001b[0mRetryException\u001b[0m\u001b[0;34m:\u001b[0m\u001b[0;34m\u001b[0m\u001b[0;34m\u001b[0m\u001b[0m\n\u001b[1;32m    224\u001b[0m                 \u001b[0mretry_wait\u001b[0m \u001b[0;34m=\u001b[0m \u001b[0mself\u001b[0m\u001b[0;34m.\u001b[0m\u001b[0m_retry_wait\u001b[0m\u001b[0;34m\u001b[0m\u001b[0;34m\u001b[0m\u001b[0m\n",
            "\u001b[0;32m/usr/local/lib/python3.11/dist-packages/alpaca_trade_api/rest.py\u001b[0m in \u001b[0;36m_one_request\u001b[0;34m(self, method, url, opts, retry)\u001b[0m\n\u001b[1;32m    246\u001b[0m             \u001b[0;32mif\u001b[0m \u001b[0mresp\u001b[0m\u001b[0;34m.\u001b[0m\u001b[0mstatus_code\u001b[0m \u001b[0;32min\u001b[0m \u001b[0mretry_codes\u001b[0m \u001b[0;32mand\u001b[0m \u001b[0mretry\u001b[0m \u001b[0;34m>\u001b[0m \u001b[0;36m0\u001b[0m\u001b[0;34m:\u001b[0m\u001b[0;34m\u001b[0m\u001b[0;34m\u001b[0m\u001b[0m\n\u001b[1;32m    247\u001b[0m                 \u001b[0;32mraise\u001b[0m \u001b[0mRetryException\u001b[0m\u001b[0;34m(\u001b[0m\u001b[0;34m)\u001b[0m\u001b[0;34m\u001b[0m\u001b[0;34m\u001b[0m\u001b[0m\n\u001b[0;32m--> 248\u001b[0;31m             \u001b[0mraise_api_error\u001b[0m\u001b[0;34m(\u001b[0m\u001b[0mresp\u001b[0m\u001b[0;34m,\u001b[0m \u001b[0mhttp_error\u001b[0m\u001b[0;34m)\u001b[0m\u001b[0;34m\u001b[0m\u001b[0;34m\u001b[0m\u001b[0m\n\u001b[0m\u001b[1;32m    249\u001b[0m         \u001b[0;32mif\u001b[0m \u001b[0mresp\u001b[0m\u001b[0;34m.\u001b[0m\u001b[0mtext\u001b[0m \u001b[0;34m!=\u001b[0m \u001b[0;34m''\u001b[0m\u001b[0;34m:\u001b[0m\u001b[0;34m\u001b[0m\u001b[0;34m\u001b[0m\u001b[0m\n\u001b[1;32m    250\u001b[0m             \u001b[0;32mreturn\u001b[0m \u001b[0mresp\u001b[0m\u001b[0;34m.\u001b[0m\u001b[0mjson\u001b[0m\u001b[0;34m(\u001b[0m\u001b[0;34m)\u001b[0m\u001b[0;34m\u001b[0m\u001b[0;34m\u001b[0m\u001b[0m\n",
            "\u001b[0;32m/usr/local/lib/python3.11/dist-packages/alpaca_trade_api/rest.py\u001b[0m in \u001b[0;36mraise_api_error\u001b[0;34m(resp, http_error)\u001b[0m\n\u001b[1;32m     81\u001b[0m         \u001b[0;32mraise\u001b[0m \u001b[0mhttp_error\u001b[0m \u001b[0;32mfrom\u001b[0m \u001b[0;32mNone\u001b[0m\u001b[0;34m\u001b[0m\u001b[0;34m\u001b[0m\u001b[0m\n\u001b[1;32m     82\u001b[0m     \u001b[0;32mif\u001b[0m \u001b[0;34m'message'\u001b[0m \u001b[0;32min\u001b[0m \u001b[0merror\u001b[0m\u001b[0;34m:\u001b[0m\u001b[0;34m\u001b[0m\u001b[0;34m\u001b[0m\u001b[0m\n\u001b[0;32m---> 83\u001b[0;31m         \u001b[0;32mraise\u001b[0m \u001b[0mAPIError\u001b[0m\u001b[0;34m(\u001b[0m\u001b[0merror\u001b[0m\u001b[0;34m,\u001b[0m \u001b[0mhttp_error\u001b[0m\u001b[0;34m)\u001b[0m \u001b[0;32mfrom\u001b[0m \u001b[0;32mNone\u001b[0m\u001b[0;34m\u001b[0m\u001b[0;34m\u001b[0m\u001b[0m\n\u001b[0m\u001b[1;32m     84\u001b[0m     \u001b[0;32mraise\u001b[0m \u001b[0mhttp_error\u001b[0m \u001b[0;32mfrom\u001b[0m \u001b[0;32mNone\u001b[0m\u001b[0;34m\u001b[0m\u001b[0;34m\u001b[0m\u001b[0m\n\u001b[1;32m     85\u001b[0m \u001b[0;34m\u001b[0m\u001b[0m\n",
            "\u001b[0;31mAPIError\u001b[0m: subscription does not permit querying recent SIP data"
          ]
        }
      ]
    },
    {
      "cell_type": "markdown",
      "metadata": {
        "id": "a1368099"
      },
      "source": [
        "## Backtest or paper trade\n",
        "\n",
        "### Subtask:\n",
        "Test your trading strategy using historical data (backtesting) or simulated trading (paper trading) before using real money.\n"
      ]
    },
    {
      "cell_type": "markdown",
      "metadata": {
        "id": "c1581496"
      },
      "source": [
        "**Reasoning**:\n",
        "Modify the data fetching logic in the `fetch_data` method to use historical data within the limits of the current Alpaca API subscription. Then, run the strategy again.\n",
        "\n"
      ]
    },
    {
      "cell_type": "code",
      "metadata": {
        "colab": {
          "base_uri": "https://localhost:8080/"
        },
        "id": "c3a31833",
        "outputId": "911685f9-7e86-4c3a-cd77-cd7ff64c49cc"
      },
      "source": [
        "class SimpleMovingAverageStrategy:\n",
        "    def __init__(self, api_client, symbol=\"SPY\", short_window=50, long_window=200):\n",
        "        self.api = api_client\n",
        "        self.symbol = symbol\n",
        "        self.short_window = short_window\n",
        "        self.long_window = long_window\n",
        "        self.in_position = False  # Track if we currently hold a position\n",
        "\n",
        "    def fetch_data(self):\n",
        "        \"\"\"Fetches historical closing price data.\"\"\"\n",
        "        # Fetch data for a period sufficient for the long moving average\n",
        "        # Attempt to fetch older data which might be available with a basic subscription\n",
        "        # Using a date range that is likely to be historical and not require recent SIP data\n",
        "        end_date = pd.Timestamp('2023-12-31', tz='America/New_York') # Use an older end date\n",
        "        start_date = end_date - pd.Timedelta(days=self.long_window * 3) # Ensure enough data for moving averages\n",
        "\n",
        "        try:\n",
        "            barset = self.api.get_bars(self.symbol, '1D', start=start_date.isoformat(), end=end_date.isoformat()).df\n",
        "            if barset.empty:\n",
        "                print(\"Fetched empty dataset. Check symbol and date range.\")\n",
        "                return None\n",
        "            return barset['close']\n",
        "        except Exception as e:\n",
        "            print(f\"Error fetching data: {e}\")\n",
        "            return None\n",
        "\n",
        "\n",
        "    def generate_signals(self, historical_prices):\n",
        "        \"\"\"Generates trading signals based on moving averages.\"\"\"\n",
        "        if historical_prices is None or len(historical_prices) < self.long_window:\n",
        "            print(\"Not enough data to calculate moving averages or data fetching failed.\")\n",
        "            return None\n",
        "\n",
        "        short_mavg = historical_prices.rolling(window=self.short_window).mean()\n",
        "        long_mavg = historical_prices.rolling(window=self.long_window).mean()\n",
        "\n",
        "        signals = pd.DataFrame(index=historical_prices.index)\n",
        "        signals['price'] = historical_prices\n",
        "        signals['short_mavg'] = short_mavg\n",
        "        signals['long_mavg'] = long_mavg\n",
        "\n",
        "        # Generate signals: buy when short crosses above long, sell when short crosses below long\n",
        "        signals['signal'] = 0.0\n",
        "        signals['signal'][self.short_window:] = np.where(\n",
        "            signals['short_mavg'][self.short_window:] > signals['long_mavg'][self.short_window:],\n",
        "            1.0, 0.0\n",
        "        )\n",
        "        signals['positions'] = signals['signal'].diff()\n",
        "\n",
        "        return signals\n",
        "\n",
        "    def execute_trades(self, signals):\n",
        "        \"\"\"Executes trades based on the generated signals.\"\"\"\n",
        "        if signals is None or signals.empty:\n",
        "            print(\"No signals to execute trades.\")\n",
        "            return\n",
        "\n",
        "        # For backtesting/paper trading with historical data, we'll just print signals\n",
        "        # We won't actually submit live orders in this backtesting phase\n",
        "        print(\"\\n--- Backtesting Signals ---\")\n",
        "        print(signals.tail()) # Print the last few signals\n",
        "        print(\"--- End Backtesting Signals ---\\n\")\n",
        "\n",
        "\n",
        "    def run(self):\n",
        "        \"\"\"Runs the trading strategy.\"\"\"\n",
        "        print(f\"Running trading strategy for {self.symbol}...\")\n",
        "        historical_prices = self.fetch_data()\n",
        "        signals = self.generate_signals(historical_prices)\n",
        "        self.execute_trades(signals)\n",
        "        print(\"Trading strategy run complete.\")\n",
        "\n",
        "# Re-instantiate the strategy with the modified fetch_data method\n",
        "strategy = SimpleMovingAverageStrategy(alpaca_api)\n",
        "\n",
        "# Run the strategy again\n",
        "strategy.run()"
      ],
      "execution_count": 8,
      "outputs": [
        {
          "output_type": "stream",
          "name": "stdout",
          "text": [
            "Running trading strategy for SPY...\n",
            "\n",
            "--- Backtesting Signals ---\n",
            "                            price  short_mavg  long_mavg  signal  positions\n",
            "timestamp                                                                  \n",
            "2023-12-22 05:00:00+00:00  473.65    445.9060  432.59690     1.0        0.0\n",
            "2023-12-26 05:00:00+00:00  475.65    446.7890  433.04560     1.0        0.0\n",
            "2023-12-27 05:00:00+00:00  476.51    447.5984  433.50135     1.0        0.0\n",
            "2023-12-28 05:00:00+00:00  476.69    448.4118  433.92615     1.0        0.0\n",
            "2023-12-29 05:00:00+00:00  475.31    449.3138  434.35630     1.0        0.0\n",
            "--- End Backtesting Signals ---\n",
            "\n",
            "Trading strategy run complete.\n"
          ]
        },
        {
          "output_type": "stream",
          "name": "stderr",
          "text": [
            "/tmp/ipython-input-8-1549860869.py:44: FutureWarning: ChainedAssignmentError: behaviour will change in pandas 3.0!\n",
            "You are setting values through chained assignment. Currently this works in certain cases, but when using Copy-on-Write (which will become the default behaviour in pandas 3.0) this will never work to update the original DataFrame or Series, because the intermediate object on which we are setting values will behave as a copy.\n",
            "A typical example is when you are setting values in a column of a DataFrame, like:\n",
            "\n",
            "df[\"col\"][row_indexer] = value\n",
            "\n",
            "Use `df.loc[row_indexer, \"col\"] = values` instead, to perform the assignment in a single step and ensure this keeps updating the original `df`.\n",
            "\n",
            "See the caveats in the documentation: https://pandas.pydata.org/pandas-docs/stable/user_guide/indexing.html#returning-a-view-versus-a-copy\n",
            "\n",
            "  signals['signal'][self.short_window:] = np.where(\n"
          ]
        }
      ]
    },
    {
      "cell_type": "markdown",
      "metadata": {
        "id": "edec1e98"
      },
      "source": [
        "## Deploy and run the bot\n",
        "\n",
        "### Subtask:\n",
        "Set up an environment to run your trading bot continuously.\n"
      ]
    },
    {
      "cell_type": "markdown",
      "metadata": {
        "id": "888bceef"
      },
      "source": [
        "## Summary:\n",
        "\n",
        "### Data Analysis Key Findings\n",
        "\n",
        "*   The `alpaca-trade-api` library was successfully installed and imported.\n",
        "*   Placeholder variables for Alpaca API key ID and secret key were defined.\n",
        "*   An Alpaca API connection object was successfully created using the defined placeholder credentials.\n",
        "*   A Python class `SimpleMovingAverageStrategy` was developed to implement a trading strategy based on moving average crossover.\n",
        "*   The initial attempt to backtest the strategy by fetching recent historical data failed due to an Alpaca API subscription error (\"subscription does not permit querying recent SIP data\").\n",
        "*   The data fetching logic was modified to use an older historical date range (ending in late 2023), which allowed the strategy to successfully fetch historical data and generate trading signals.\n",
        "*   The backtesting process, which included fetching historical prices, calculating moving averages, and generating signals, ran successfully with the modified data fetching approach.\n",
        "*   The final step of deploying and running the bot continuously could not be performed within the current environment as it requires external infrastructure setup.\n",
        "\n",
        "### Insights or Next Steps\n",
        "\n",
        "*   To run the trading strategy with recent data, a higher-tier Alpaca API subscription might be required.\n",
        "*   For continuous operation, the trading bot needs to be deployed on a persistent environment outside of the current interactive session, such as a cloud server or VPS, and scheduled to run periodically.\n"
      ]
    },
    {
      "cell_type": "markdown",
      "metadata": {
        "id": "9ee87bb7"
      },
      "source": [
        "# Task\n",
        "Replace the existing Alpaca trading bot with the provided Python code, integrate it with the Alpaca API, and prepare it for backtesting or paper trading."
      ]
    },
    {
      "cell_type": "markdown",
      "metadata": {
        "id": "6ffd0f9f"
      },
      "source": [
        "## Add the new trading bot code\n",
        "\n",
        "### Subtask:\n",
        "Include the provided Python code for your new trading bot in a new code cell.\n"
      ]
    },
    {
      "cell_type": "code",
      "source": [
        "import alpaca_trade_api as tradeapi\n",
        "import pandas as pd\n",
        "import ta\n",
        "import time\n",
        "from datetime import datetime, timedelta\n",
        "\n",
        "# --- Configuration ---\n",
        "# Make sure to set up your API keys and base URL\n",
        "# For live trading, use the live trading URL\n",
        "API_KEY = 'PKAZJ2CHZ409JXQEE3JI'\n",
        "API_SECRET = 'DbmnlcNEM7sTfVG66Q4YfDhlKvfdaHO64evp0dBj'\n",
        "BASE_URL = 'https://paper-api.alpaca.markets' # **Changed to Paper Trading URL**\n",
        "SYMBOL = 'QQQ'\n",
        "TIMEFRAME = '3Min'\n",
        "BUY_QUANTITY = 50\n",
        "PROFIT_TARGET_PERCENTAGE_OF_LENGTH = 0.015 # 1.5% of the red candle length\n",
        "\n",
        "\n",
        "# --- Initialize Alpaca API ---\n",
        "api = tradeapi.REST(API_KEY, API_SECRET, base_url=BASE_URL)\n",
        "\n",
        "# --- Global Variables to track the strategy state ---\n",
        "current_bars = pd.DataFrame()\n",
        "position_held = False\n",
        "entry_price = 0\n",
        "entry_timestamp = None\n",
        "red_candle_high = None\n",
        "red_candle_low = None\n",
        "red_candle_length = None\n",
        "crossover_found = False # To track if the 10/50 EMA crossover has happened\n",
        "red_candle_pattern_found = False # To track if the specific red candle after crossover is identified\n",
        "\n",
        "# --- Function to fetch historical data (useful for initial setup or catching up) ---\n",
        "def get_historical_data(symbol, timeframe, limit=1000):\n",
        "    \"\"\"Fetches historical data for backtesting.\"\"\"\n",
        "    # Fetch data from an older date range likely available with a basic subscription\n",
        "    end_date = datetime(2023, 12, 31) # Use an older end date for backtesting\n",
        "    start_date = end_date - timedelta(days=365) # Fetch data for a year as a buffer\n",
        "\n",
        "    try:\n",
        "        bars = api.get_bars(symbol, timeframe, start=start_date.strftime('%Y-%m-%d'), end=end_date.strftime('%Y-%m-%d'), limit=limit).df\n",
        "        return bars.sort_index() # Ensure data is sorted by timestamp\n",
        "    except Exception as e:\n",
        "        print(f\"Error fetching historical data: {e}\")\n",
        "        return pd.DataFrame() # Return empty DataFrame on error\n",
        "\n",
        "\n",
        "# --- Function to calculate indicators ---\n",
        "def calculate_indicators(df):\n",
        "    if not df.empty:\n",
        "        # Calculate 10-period EMA\n",
        "        df['ema_10'] = ta.trend.ema_indicator(close=df['close'], window=10)\n",
        "        # Calculate 50-period EMA\n",
        "        df['ema_50'] = ta.trend.ema_indicator(close=df['close'], window=50)\n",
        "        # Drop rows with NaN values created by indicators\n",
        "        df.dropna(inplace=True)\n",
        "    return df\n",
        "\n",
        "# --- Function to check for the EMA crossover ---\n",
        "def check_crossover(df):\n",
        "    global crossover_found\n",
        "    if not df.empty and len(df) >= 2:\n",
        "        # Check for bullish crossover (10 EMA crosses above 50 EMA)\n",
        "        if (df['ema_10'].iloc[-1] > df['ema_50'].iloc[-1]) and \\\n",
        "           (df['ema_10'].iloc[-2] <= df['ema_50'].iloc[-2]):\n",
        "            crossover_found = True\n",
        "            print(f\"Bullish EMA crossover detected at {df.index[-1]}\")\n",
        "\n",
        "# --- Function to find the first red candle after crossover ---\n",
        "def find_red_candle_after_crossover(df):\n",
        "    global red_candle_high, red_candle_low, red_candle_length, red_candle_pattern_found\n",
        "    if crossover_found and not red_candle_pattern_found:\n",
        "        # Filter for bars after the crossover point\n",
        "        # Find the index of the first crossover\n",
        "        crossover_indices = df[\n",
        "             (df['ema_10'] > df['ema_50']) &\n",
        "             (df['ema_10'].shift(1) <= df['ema_50'].shift(1))\n",
        "        ].index\n",
        "\n",
        "        if not crossover_indices.empty:\n",
        "            crossover_time = crossover_indices[0]\n",
        "            bars_after_crossover = df[df.index >= crossover_time]\n",
        "\n",
        "            # Find the first red candle in the filtered data\n",
        "            red_candles = bars_after_crossover[bars_after_crossover['close'] < bars_after_crossover['open']]\n",
        "\n",
        "            if not red_candles.empty:\n",
        "                first_red_candle = red_candles.iloc[0]\n",
        "                red_candle_high = first_red_candle['high']\n",
        "                red_candle_low = first_red_candle['low']\n",
        "                red_candle_length = red_candle_high - red_candle_low\n",
        "                red_candle_pattern_found = True\n",
        "                print(f\"First red candle after crossover identified at {first_red_candle.name}\")\n",
        "                print(f\"Red candle high: {red_candle_high:.2f}, low: {red_candle_low:.2f}, length: {red_candle_length:.2f}\")\n",
        "\n",
        "\n",
        "# --- Function to check for buy signal and place order ---\n",
        "def check_buy_signal(df):\n",
        "    global position_held, entry_price, entry_timestamp\n",
        "    if red_candle_pattern_found and not position_held:\n",
        "        current_price_high = df['high'].iloc[-1]\n",
        "        if current_price_high > red_candle_high:\n",
        "            try:\n",
        "                # Place a market order to buy\n",
        "                order = api.submit_order(\n",
        "                    symbol=SYMBOL,\n",
        "                    qty=BUY_QUANTITY,\n",
        "                    side='buy',\n",
        "                    type='market',\n",
        "                    time_in_force='gtc' # Good 'Til Canceled\n",
        "                )\n",
        "                print(f\"Buy order placed for {BUY_QUANTITY} shares of {SYMBOL} at {df.index[-1]}\")\n",
        "                position_held = True\n",
        "                # Note: Entry price in live trading would be the execution price,\n",
        "                # which you can get from order updates. For simplicity here,\n",
        "                # we'll use the red candle high as the theoretical entry price.\n",
        "                entry_price = red_candle_high\n",
        "                entry_timestamp = df.index[-1]\n",
        "\n",
        "            except Exception as e:\n",
        "                print(f\"Error placing buy order: {e}\")\n",
        "\n",
        "# --- Function to check for exit signal and place order ---\n",
        "def check_sell_signal(df):\n",
        "    global position_held, red_candle_low, red_candle_length, entry_price\n",
        "    if position_held:\n",
        "        current_price_close = df['close'].iloc[-1]\n",
        "        current_price_high = df['high'].iloc[-1]\n",
        "\n",
        "        # Calculate profit target price\n",
        "        profit_target_price = red_candle_high + (red_candle_length * PROFIT_TARGET_PERCENTAGE_OF_LENGTH)\n",
        "\n",
        "        # Check for Profit Target or Stop Loss\n",
        "        if current_price_high >= profit_target_price:\n",
        "            try:\n",
        "                # Place a market order to sell (Profit Target)\n",
        "                 # Get current position to sell\n",
        "                position = api.get_position(SYMBOL)\n",
        "                qty_to_sell = int(position.qty)\n",
        "\n",
        "                if qty_to_sell > 0:\n",
        "                     order = api.submit_order(\n",
        "                        symbol=SYMBOL,\n",
        "                        qty=qty_to_sell, # Sell the entire position\n",
        "                        side='sell',\n",
        "                        type='market',\n",
        "                        time_in_force='gtc'\n",
        "                    )\n",
        "                     print(f\"Sell order placed for {qty_to_sell} shares of {SYMBOL} at {df.index[-1]} (Profit Target)\")\n",
        "                     position_held = False\n",
        "                     # Reset pattern tracking after exiting\n",
        "                     reset_strategy_state()\n",
        "                else:\n",
        "                     print(f\"No position to sell for {SYMBOL} at {df.index[-1]} (Profit Target)\")\n",
        "\n",
        "\n",
        "            except Exception as e:\n",
        "                print(f\"Error placing sell order (Profit Target): {e}\")\n",
        "\n",
        "        elif current_price_close < red_candle_low:\n",
        "            try:\n",
        "                # Place a market order to sell (Stop Loss)\n",
        "                # Get current position to sell\n",
        "                position = api.get_position(SYMBOL)\n",
        "                qty_to_sell = int(position.qty)\n",
        "\n",
        "                if qty_to_sell > 0:\n",
        "                    order = api.submit_order(\n",
        "                        symbol=SYMBOL,\n",
        "                        qty=qty_to_sell, # Sell the entire position\n",
        "                        side='sell',\n",
        "                        type='market',\n",
        "                        time_in_force='gtc'\n",
        "                    )\n",
        "                    print(f\"Sell order placed for {qty_to_sell} shares of {SYMBOL} at {df.index[-1]} (Closed Below Red Candle Low)\")\n",
        "                    position_held = False\n",
        "                    # Reset pattern tracking after exiting\n",
        "                    reset_strategy_state()\n",
        "                else:\n",
        "                     print(f\"No position to sell for {SYMBOL} at {df.index[-1]} (Closed Below Red Candle Low)\")\n",
        "\n",
        "            except Exception as e:\n",
        "                print(f\"Error placing sell order (Stop Loss): {e}\")\n",
        "\n",
        "# --- Function to reset strategy state after an exit ---\n",
        "def reset_strategy_state():\n",
        "    global crossover_found, red_candle_pattern_found, red_candle_high, red_candle_low, red_candle_length, entry_price, entry_timestamp\n",
        "    crossover_found = False\n",
        "    red_candle_pattern_found = False\n",
        "    red_candle_high = None\n",
        "    red_candle_low = None\n",
        "    red_candle_length = None\n",
        "    entry_price = 0\n",
        "    entry_timestamp = None\n",
        "    print(\"Strategy state reset after trade exit.\")\n",
        "\n",
        "\n",
        "# --- Main trading loop (simplified for backtesting) ---\n",
        "def backtesting_loop():\n",
        "    global current_bars\n",
        "    print(\"Starting backtesting loop...\")\n",
        "    # Fetch enough historical data for the backtesting period\n",
        "    historical_data = get_historical_data(SYMBOL, TIMEFRAME, limit=5000) # Fetch more data for backtesting\n",
        "\n",
        "    if historical_data.empty:\n",
        "        print(\"Could not fetch historical data for backtesting. Exiting.\")\n",
        "        return\n",
        "\n",
        "    print(f\"Fetched {len(historical_data)} bars for backtesting.\")\n",
        "\n",
        "    # Process data bar by bar to simulate live trading\n",
        "    for i in range(len(historical_data)):\n",
        "        # Simulate receiving one new bar at a time\n",
        "        current_bars = historical_data.iloc[:i+1]\n",
        "\n",
        "        if len(current_bars) < max(10, 50): # Ensure enough data for indicators\n",
        "             continue\n",
        "\n",
        "        # Recalculate indicators on the updated data\n",
        "        processed_bars = calculate_indicators(current_bars.copy())\n",
        "\n",
        "        if not processed_bars.empty:\n",
        "            # Check for EMA crossover\n",
        "            if not crossover_found:\n",
        "                check_crossover(processed_bars)\n",
        "\n",
        "            # Find the red candle after crossover\n",
        "            if crossover_found and not red_candle_pattern_found:\n",
        "                 find_red_candle_after_crossover(processed_bars)\n",
        "\n",
        "            # Check for buy signal\n",
        "            if red_candle_pattern_found and not position_held:\n",
        "                check_buy_signal(processed_bars)\n",
        "\n",
        "            # Check for sell signal (if holding a position)\n",
        "            if position_held:\n",
        "                 check_sell_signal(processed_bars)\n",
        "\n",
        "    print(\"Backtesting loop complete.\")\n",
        "    if position_held:\n",
        "        print(\"Backtesting finished with an open position. No exit signal found in the data range.\")\n",
        "\n",
        "\n",
        "# --- Main trading loop for paper trading ---\n",
        "def paper_trading_loop():\n",
        "    global current_bars\n",
        "    print(\"Starting paper trading loop...\")\n",
        "    # Fetch some initial historical data to prime the indicators\n",
        "    current_bars = get_historical_data(SYMBOL, TIMEFRAME, limit=200) # Fetch enough data for indicators\n",
        "\n",
        "    while True:\n",
        "        # Fetch the latest bar\n",
        "        try:\n",
        "            latest_bar_df = api.get_bars(SYMBOL, TIMEFRAME, limit=1).df\n",
        "            if not latest_bar_df.empty:\n",
        "                latest_bar = latest_bar_df.iloc[-1]\n",
        "\n",
        "                # Append the latest bar if it's new\n",
        "                if latest_bar.name not in current_bars.index:\n",
        "                    current_bars = pd.concat([current_bars, latest_bar_df])\n",
        "                    current_bars = current_bars.sort_index().tail(200) # Keep a rolling window of bars\n",
        "\n",
        "                    # Recalculate indicators on the updated data\n",
        "                    processed_bars = calculate_indicators(current_bars.copy())\n",
        "\n",
        "                    if not processed_bars.empty:\n",
        "                       # Check for EMA crossover\n",
        "                       if not crossover_found:\n",
        "                           check_crossover(processed_bars)\n",
        "\n",
        "                       # Find the red candle after crossover\n",
        "                       if crossover_found and not red_candle_pattern_found:\n",
        "                            find_red_candle_after_crossover(processed_bars)\n",
        "\n",
        "                       # Check for buy signal\n",
        "                       if red_candle_pattern_found and not position_held:\n",
        "                           check_buy_signal(processed_bars)\n",
        "\n",
        "                       # Check for sell signal (if holding a position)\n",
        "                       if position_held:\n",
        "                            check_sell_signal(processed_bars)\n",
        "\n",
        "        except Exception as e:\n",
        "            print(f\"Error in paper trading loop: {e}\")\n",
        "            # Implement more sophisticated error handling and potentially retry logic\n",
        "            time.sleep(10) # Wait before retrying\n",
        "\n",
        "        time.sleep(60) # Wait for 60 seconds (adjust based on timeframe)\n",
        "\n",
        "\n",
        "# --- To run the backtesting loop ---\n",
        "# print(\"--- Starting Backtesting/Paper Trading ---\")\n",
        "# Instead of the simplified live trading loop, call the backtesting loop\n",
        "# backtesting_loop()\n",
        "\n",
        "# --- To run the paper trading loop ---\n",
        "print(\"--- Starting Paper Trading ---\")\n",
        "paper_trading_loop()\n",
        "\n",
        "# print(\"\\nSimplified live trading script outline generated.\")\n",
        "# print(\"Remember to replace 'YOUR_ALPACA_API_KEY' and 'YOUR_ALPACA_SECRET_KEY' with your actual keys.\")\n",
        "# print(\"This is a simplified example and needs significant additions for robust live trading.\")"
      ],
      "metadata": {
        "colab": {
          "base_uri": "https://localhost:8080/"
        },
        "id": "4i1epl2-W05F",
        "outputId": "eeeadff7-ed8c-42ad-9fc8-eccd9b47de68"
      },
      "execution_count": null,
      "outputs": [
        {
          "output_type": "stream",
          "name": "stdout",
          "text": [
            "--- Starting Paper Trading ---\n",
            "Starting paper trading loop...\n"
          ]
        }
      ]
    },
    {
      "cell_type": "markdown",
      "metadata": {
        "id": "dd75a975"
      },
      "source": [
        "**Reasoning**:\n",
        "Include the provided Python code for the new trading bot in a new code cell.\n",
        "\n"
      ]
    },
    {
      "cell_type": "markdown",
      "metadata": {
        "id": "64281daf"
      },
      "source": [
        "## Integrate with alpaca api\n",
        "\n",
        "### Subtask:\n",
        "Ensure your new bot code uses the initialized `alpaca_api` object to fetch data and execute trades.\n"
      ]
    },
    {
      "cell_type": "markdown",
      "metadata": {
        "id": "7c1b79e0"
      },
      "source": [
        "**Reasoning**:\n",
        "Instantiate the SimpleMovingAverageStrategy class, passing the initialized alpaca_api object, to set up the bot to use the established API connection.\n",
        "\n"
      ]
    },
    {
      "cell_type": "code",
      "metadata": {
        "colab": {
          "base_uri": "https://localhost:8080/"
        },
        "id": "51b81db0",
        "outputId": "09ce4805-ccb6-4c9c-b561-95d1094acbcb"
      },
      "source": [
        "%pip install ta"
      ],
      "execution_count": 12,
      "outputs": [
        {
          "output_type": "stream",
          "name": "stdout",
          "text": [
            "Collecting ta\n",
            "  Downloading ta-0.11.0.tar.gz (25 kB)\n",
            "  Preparing metadata (setup.py) ... \u001b[?25l\u001b[?25hdone\n",
            "Requirement already satisfied: numpy in /usr/local/lib/python3.11/dist-packages (from ta) (2.0.2)\n",
            "Requirement already satisfied: pandas in /usr/local/lib/python3.11/dist-packages (from ta) (2.2.2)\n",
            "Requirement already satisfied: python-dateutil>=2.8.2 in /usr/local/lib/python3.11/dist-packages (from pandas->ta) (2.9.0.post0)\n",
            "Requirement already satisfied: pytz>=2020.1 in /usr/local/lib/python3.11/dist-packages (from pandas->ta) (2025.2)\n",
            "Requirement already satisfied: tzdata>=2022.7 in /usr/local/lib/python3.11/dist-packages (from pandas->ta) (2025.2)\n",
            "Requirement already satisfied: six>=1.5 in /usr/local/lib/python3.11/dist-packages (from python-dateutil>=2.8.2->pandas->ta) (1.17.0)\n",
            "Building wheels for collected packages: ta\n",
            "  Building wheel for ta (setup.py) ... \u001b[?25l\u001b[?25hdone\n",
            "  Created wheel for ta: filename=ta-0.11.0-py3-none-any.whl size=29412 sha256=944ab69a4bcd3899a61195a5dbffd85fa6ed06d2fe5b85474a8a66b94cbe3404\n",
            "  Stored in directory: /root/.cache/pip/wheels/a1/d7/29/7781cc5eb9a3659d032d7d15bdd0f49d07d2b24fec29f44bc4\n",
            "Successfully built ta\n",
            "Installing collected packages: ta\n",
            "Successfully installed ta-0.11.0\n"
          ]
        }
      ]
    }
  ]
}